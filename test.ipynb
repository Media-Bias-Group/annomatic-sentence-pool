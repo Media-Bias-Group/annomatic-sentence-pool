{
 "cells": [
  {
   "cell_type": "code",
   "execution_count": 160,
   "metadata": {
    "collapsed": true
   },
   "outputs": [],
   "source": [
    "import pandas as pd"
   ]
  },
  {
   "cell_type": "code",
   "execution_count": 161,
   "outputs": [
    {
     "data": {
      "text/plain": "                                                    text source_party  \\\n26825  From mesmerizing gold to playful leopard print...         Left   \n\n      source_name  bias_estimate  model_uncertainity  \\\n26825       vogue              1                   1   \n\n                                sentence_id  \\\n26825  d18f7d15-fa28-4af9-b4ff-9d7dcb86ea56   \n\n                                 article_id  \n26825  ab154d70-0ecc-419e-81de-d36b21189f88  ",
      "text/html": "<div>\n<style scoped>\n    .dataframe tbody tr th:only-of-type {\n        vertical-align: middle;\n    }\n\n    .dataframe tbody tr th {\n        vertical-align: top;\n    }\n\n    .dataframe thead th {\n        text-align: right;\n    }\n</style>\n<table border=\"1\" class=\"dataframe\">\n  <thead>\n    <tr style=\"text-align: right;\">\n      <th></th>\n      <th>text</th>\n      <th>source_party</th>\n      <th>source_name</th>\n      <th>bias_estimate</th>\n      <th>model_uncertainity</th>\n      <th>sentence_id</th>\n      <th>article_id</th>\n    </tr>\n  </thead>\n  <tbody>\n    <tr>\n      <th>26825</th>\n      <td>From mesmerizing gold to playful leopard print...</td>\n      <td>Left</td>\n      <td>vogue</td>\n      <td>1</td>\n      <td>1</td>\n      <td>d18f7d15-fa28-4af9-b4ff-9d7dcb86ea56</td>\n      <td>ab154d70-0ecc-419e-81de-d36b21189f88</td>\n    </tr>\n  </tbody>\n</table>\n</div>"
     },
     "execution_count": 161,
     "metadata": {},
     "output_type": "execute_result"
    }
   ],
   "source": [
    "df_new = pd.read_csv('data/output/final_sentence_pool.csv')\n",
    "df_new.shape\n",
    "\n",
    "df_new[df_new['text'].str.contains(\"zing gold to playful leopard print, there are so many colors to choose from, but the classic black shade is the style that can be worn from day to night.\")]"
   ],
   "metadata": {
    "collapsed": false
   }
  },
  {
   "cell_type": "code",
   "execution_count": 162,
   "outputs": [],
   "source": [
    "#\"(AP Photo/Nam Y. Huh, File) FILE - A hiring sign is displayed at a grocery store, Oct. 5, 2023, in Deerfield, Ill.\",\n",
    "def remove_pattern_AP_FILE(sentence):\n",
    "    if sentence.startswith(\"(\"):\n",
    "        return re.sub(r'\\(AP Photo/.*?, File\\) FILE - ', '', sentence)\n",
    "    else:\n",
    "        return sentence\n",
    "\n",
    "#\"(AP Photo/Nam Y. Huh) - A hiring sign is displayed at a grocery store, Oct. 5, 2023, in Deerfield, Ill.\",\n",
    "def remove_pattern_AP_Photo(sentence):\n",
    "    if sentence.startswith(\"(\"):\n",
    "        return re.sub(r'\\(AP Photo/.*?\\) ', '', sentence)\n",
    "    else:\n",
    "        return sentence\n",
    "\n",
    "#\"(Photo by Ding Haitao/Xinhua via Getty Images) Xinhua News Agency | Xinhua News Agency | Getty Images Australia's relationship with China remains fractious even as the country seeks to mend ties w...\",\n",
    "def remove_photo_pattern(sentence):\n",
    "    if sentence.startswith(\"(\"):\n",
    "        return re.sub(r'\\(Photo.*?\\) ', '', sentence)\n",
    "    else:\n",
    "        return sentence\n",
    "def remove_pattern_read_more(sentence):\n",
    "    if sentence.startswith(\"(\"):\n",
    "        return re.sub(r'\\(READ MORE.*?\\) ', '', sentence)\n",
    "    else:\n",
    "        return sentence\n",
    "\n",
    "#(John J. Kim / Chicago Tribune) Guerrero said Joliet’s communities of color are used to feeling overlooked in city hall decisions; part of his motivation to run was the lack of Latino representati...\n",
    "def remove_pattern_reference(sentence):\n",
    "    if sentence.startswith(\"(\"):\n",
    "        return re.sub(r'\\(.*?/.*?\\) ', '', sentence)\n",
    "    else:\n",
    "        return sentence\n",
    "\n",
    "# (2) It would make next to impossible the verification of any withdrawal of North Vietnamese forces that might be negotiated; the local authorities in areas of preponderant communist control would ...\n",
    "def remove_pattern_number(sentence):\n",
    "    if sentence.startswith(\"(\"):\n",
    "            return re.sub(r'\\(\\d+\\) ', '', sentence)\n",
    "    else:\n",
    "        return sentence\n",
    "\n",
    "#🔥🔥 pic.twitter.com/UrLAxQROIK - FIRE ( ) December 6, 2023 Magill had a fine line to walk yesterday and did a pretty poor job of it.\n",
    "def remove_pattern_twitter_2023(sentence):\n",
    "    return re.sub(r'.*?pic.twitter.com/.*?2023 ', '', sentence)\n",
    "\n",
    "def remove_music(sentence):\n",
    "    if sentence.startswith(\"[\"):\n",
    "        return re.sub(r'\\[.*?music\\] ', '', sentence)\n",
    "    else:\n",
    "        return sentence\n"
   ],
   "metadata": {
    "collapsed": false
   }
  },
  {
   "cell_type": "code",
   "execution_count": 163,
   "outputs": [
    {
     "data": {
      "text/plain": "                                                    text source_party  \\\n0      Advertisement Initially, the conference attrac...        Right   \n1      The number of workers maintaining wind turbine...         Left   \n2      How did a virus like this get from a bat to a ...         Left   \n3      Sin was conceived in a garden, takes root in e...   Lean Right   \n4      The two countries have warred over this territ...   Lean Right   \n...                                                  ...          ...   \n66211  The Gig Economy is Coming. What Will It Mean F...         Left   \n66212  He arrived, freshly graduated, and told me he ...       Center   \n66213  This is not a good time for American higher ed...        Right   \n66214  Halls pleaded no contest in March to a misdeme...       Center   \n66215  Orcutt also took his electric guitar quartet o...    Lean Left   \n\n                     source_name  bias_estimate  model_uncertainity  \\\n0                       townhall              0                   0   \n1                       alternet              0                   0   \n2                       alternet              1                   0   \n3             the-christian-post              1                   0   \n4             the-christian-post              0                   0   \n...                          ...            ...                 ...   \n66211                   alternet              0                   0   \n66212  christian-science-monitor              0                   0   \n66213           american-thinker              1                   0   \n66214                       cnbc              0                   0   \n66215                        npr              1                   0   \n\n                                sentence_id  \\\n0      bd51e6ee-8e88-4901-875d-8c5151b42692   \n1      681738a3-6f56-4124-aae4-52bf803c4d22   \n2      1050d536-e626-4647-9cc5-12b731d99077   \n3      d3910f76-fca5-44cf-98ff-c89b744743e2   \n4      c9c2c432-d67c-450b-b6d3-1fbd3e4951df   \n...                                     ...   \n66211  57e37079-3ab5-4a80-95a7-867256f089e7   \n66212  4593350c-36d1-44ed-b6b0-4fb8655b55b7   \n66213  92adcba8-bd22-4c3e-8bd5-af58c45ce9fa   \n66214  81f1f6cf-b8e6-436d-ad2b-3d56c4e9c110   \n66215  cae57a11-b669-40d0-8305-f6ad7d23cb41   \n\n                                 article_id  \n0      f87a85cb-a8d7-4a63-b71d-50342f2022c3  \n1      62e545ca-11ee-44be-9422-54eff5b1680e  \n2      f54d2a6e-a1dd-42a5-af86-866e5fe8680e  \n3      12f3585f-d850-4d33-8b1c-d4e25cc4896b  \n4      715e6c9e-1b12-4341-9f26-3c00c246ee1b  \n...                                     ...  \n66211  8c907329-affd-4446-9ea4-0bdae1ed04cd  \n66212  fb4c99c1-488b-4337-be4d-c2208a249602  \n66213  e517de10-85b8-4273-b392-3495a70f4af5  \n66214  8e89132c-acc2-4b5e-a6e4-b51a9f2d4d2e  \n66215  c5ba0671-15db-4cff-94e0-d5df7619ccba  \n\n[66216 rows x 7 columns]",
      "text/html": "<div>\n<style scoped>\n    .dataframe tbody tr th:only-of-type {\n        vertical-align: middle;\n    }\n\n    .dataframe tbody tr th {\n        vertical-align: top;\n    }\n\n    .dataframe thead th {\n        text-align: right;\n    }\n</style>\n<table border=\"1\" class=\"dataframe\">\n  <thead>\n    <tr style=\"text-align: right;\">\n      <th></th>\n      <th>text</th>\n      <th>source_party</th>\n      <th>source_name</th>\n      <th>bias_estimate</th>\n      <th>model_uncertainity</th>\n      <th>sentence_id</th>\n      <th>article_id</th>\n    </tr>\n  </thead>\n  <tbody>\n    <tr>\n      <th>0</th>\n      <td>Advertisement Initially, the conference attrac...</td>\n      <td>Right</td>\n      <td>townhall</td>\n      <td>0</td>\n      <td>0</td>\n      <td>bd51e6ee-8e88-4901-875d-8c5151b42692</td>\n      <td>f87a85cb-a8d7-4a63-b71d-50342f2022c3</td>\n    </tr>\n    <tr>\n      <th>1</th>\n      <td>The number of workers maintaining wind turbine...</td>\n      <td>Left</td>\n      <td>alternet</td>\n      <td>0</td>\n      <td>0</td>\n      <td>681738a3-6f56-4124-aae4-52bf803c4d22</td>\n      <td>62e545ca-11ee-44be-9422-54eff5b1680e</td>\n    </tr>\n    <tr>\n      <th>2</th>\n      <td>How did a virus like this get from a bat to a ...</td>\n      <td>Left</td>\n      <td>alternet</td>\n      <td>1</td>\n      <td>0</td>\n      <td>1050d536-e626-4647-9cc5-12b731d99077</td>\n      <td>f54d2a6e-a1dd-42a5-af86-866e5fe8680e</td>\n    </tr>\n    <tr>\n      <th>3</th>\n      <td>Sin was conceived in a garden, takes root in e...</td>\n      <td>Lean Right</td>\n      <td>the-christian-post</td>\n      <td>1</td>\n      <td>0</td>\n      <td>d3910f76-fca5-44cf-98ff-c89b744743e2</td>\n      <td>12f3585f-d850-4d33-8b1c-d4e25cc4896b</td>\n    </tr>\n    <tr>\n      <th>4</th>\n      <td>The two countries have warred over this territ...</td>\n      <td>Lean Right</td>\n      <td>the-christian-post</td>\n      <td>0</td>\n      <td>0</td>\n      <td>c9c2c432-d67c-450b-b6d3-1fbd3e4951df</td>\n      <td>715e6c9e-1b12-4341-9f26-3c00c246ee1b</td>\n    </tr>\n    <tr>\n      <th>...</th>\n      <td>...</td>\n      <td>...</td>\n      <td>...</td>\n      <td>...</td>\n      <td>...</td>\n      <td>...</td>\n      <td>...</td>\n    </tr>\n    <tr>\n      <th>66211</th>\n      <td>The Gig Economy is Coming. What Will It Mean F...</td>\n      <td>Left</td>\n      <td>alternet</td>\n      <td>0</td>\n      <td>0</td>\n      <td>57e37079-3ab5-4a80-95a7-867256f089e7</td>\n      <td>8c907329-affd-4446-9ea4-0bdae1ed04cd</td>\n    </tr>\n    <tr>\n      <th>66212</th>\n      <td>He arrived, freshly graduated, and told me he ...</td>\n      <td>Center</td>\n      <td>christian-science-monitor</td>\n      <td>0</td>\n      <td>0</td>\n      <td>4593350c-36d1-44ed-b6b0-4fb8655b55b7</td>\n      <td>fb4c99c1-488b-4337-be4d-c2208a249602</td>\n    </tr>\n    <tr>\n      <th>66213</th>\n      <td>This is not a good time for American higher ed...</td>\n      <td>Right</td>\n      <td>american-thinker</td>\n      <td>1</td>\n      <td>0</td>\n      <td>92adcba8-bd22-4c3e-8bd5-af58c45ce9fa</td>\n      <td>e517de10-85b8-4273-b392-3495a70f4af5</td>\n    </tr>\n    <tr>\n      <th>66214</th>\n      <td>Halls pleaded no contest in March to a misdeme...</td>\n      <td>Center</td>\n      <td>cnbc</td>\n      <td>0</td>\n      <td>0</td>\n      <td>81f1f6cf-b8e6-436d-ad2b-3d56c4e9c110</td>\n      <td>8e89132c-acc2-4b5e-a6e4-b51a9f2d4d2e</td>\n    </tr>\n    <tr>\n      <th>66215</th>\n      <td>Orcutt also took his electric guitar quartet o...</td>\n      <td>Lean Left</td>\n      <td>npr</td>\n      <td>1</td>\n      <td>0</td>\n      <td>cae57a11-b669-40d0-8305-f6ad7d23cb41</td>\n      <td>c5ba0671-15db-4cff-94e0-d5df7619ccba</td>\n    </tr>\n  </tbody>\n</table>\n<p>66216 rows × 7 columns</p>\n</div>"
     },
     "execution_count": 163,
     "metadata": {},
     "output_type": "execute_result"
    }
   ],
   "source": [
    "import re\n",
    "df_new = pd.read_csv('data/output/final_sentence_pool.csv')\n",
    "\n",
    "\n",
    "\n",
    "# Clean data\n",
    "df_new = df_new.drop_duplicates('text', keep='first')\n",
    "df_new['text'] = df_new['text'].str.replace('—', '-')\n",
    "df_new['text'] = df_new['text'].str.replace('–', '-')\n",
    "df_new['text'] = df_new['text'].str.replace('…', '...')\n",
    "df_new['text'] = df_new['text'].apply(lambda x: x.lstrip('\"') if not x.endswith('\"') else x)\n",
    "df_new['text'] = df_new['text'].apply(lambda x: x.lstrip('(') if not \")\" in x else x)\n",
    "df_new['text'] = df_new['text'].apply(remove_pattern_AP_FILE)\n",
    "df_new['text'] = df_new['text'].apply(remove_pattern_AP_Photo)\n",
    "df_new['text'] = df_new['text'].apply(remove_photo_pattern)\n",
    "df_new['text'] = df_new['text'].apply(remove_pattern_read_more)\n",
    "df_new['text'] = df_new['text'].apply(remove_pattern_reference)\n",
    "df_new['text'] = df_new['text'].apply(remove_pattern_twitter_2023)\n",
    "df_new['text'] = df_new['text'].apply(remove_pattern_number)\n",
    "df_new['text'] = df_new['text'].apply(remove_music)\n",
    "\n",
    "df_new['text'] = df_new['text'].str.replace(r\"\\*\\*\\* ‘\", '', regex=True)\n",
    "df_new['text'] = df_new['text'].str.replace(r\"\\*\\*\\*\", '', regex=True)\n",
    "df_new['text'] = df_new['text'].str.replace(r\"•\", '', regex=True)\n",
    "df_new['text'] = df_new['text'].str.replace(r\"⦁\", '', regex=True)\n",
    "df_new['text'] = df_new['text'].str.replace(r\"●\", '', regex=True)\n",
    "df_new['text'] = df_new['text'].str.replace(r\"_\", '', regex=True)\n",
    "df_new['text'] = df_new['text'].str.replace(r\"​\", '', regex=True)\n",
    "df_new['text'] = df_new['text'].str.replace(r\"» return to top\", '', regex=True)\n",
    "df_new['text'] = df_new['text'].str.replace(r\"{{/amenities.health}} {{/amenities.health.length}} {{/amenities}} {{}}{{/amenities}}\", '', regex=True)\n",
    "df_new['text'] = df_new['text'].str.replace(r\"■ Read more from Free exchange, our column on economics:\", '', regex=True)\n",
    "df_new['text'] = df_new['text'].str.replace(r\"■ Editor’s note \\(30th November\\):\", '', regex=True)\n",
    "df_new['text'] = df_new['text'].str.replace(r\"\\|\", '', regex=True)\n",
    "\n",
    "df_new['text'] = df_new['text'].str.lstrip()\n",
    "\n",
    "# remove the following\n",
    "df_new = df_new[~df_new['text'].str.startswith(')')] # remove rows that start with )\n",
    "df_new = df_new[~df_new['text'].str.startswith(',')] # halve sentences\n",
    "df_new = df_new[~df_new['text'].str.contains('/ Correction:')] # halve sentences\n",
    "df_new = df_new[~df_new['text'].str.startswith(\"'\")] # halve sentences\n",
    "# Apply the function to the 'text' column\n",
    "\n",
    "\n",
    "df_new.reset_index(drop=True, inplace=True)\n",
    "df_new\n"
   ],
   "metadata": {
    "collapsed": false
   }
  },
  {
   "cell_type": "markdown",
   "source": [
    "# Already annotated in old data"
   ],
   "metadata": {
    "collapsed": false
   }
  },
  {
   "cell_type": "code",
   "execution_count": 164,
   "outputs": [
    {
     "name": "stdout",
     "output_type": "stream",
     "text": [
      "zephyr_ma:  (9542, 5)\n",
      "openchat_ma:  (9542, 5)\n",
      "Llama_ma:  (9542, 5)\n",
      "zephyr_rest_1:  (30479, 5)\n",
      "openchat_rest_1:  (30489, 5)\n"
     ]
    }
   ],
   "source": [
    "# Master sample\n",
    "zephyr_ma = pd.read_csv(\"data/annotated/ma/zephyr-7b-beta.csv\").drop_duplicates('text', keep='first')\n",
    "openchat_ma = pd.read_csv(\"data/annotated/ma/openchat_3.5.csv\").drop_duplicates('text', keep='first')\n",
    "Llama_ma = pd.read_csv(\"data/annotated/ma/Llama-2-13b-chat-hf.csv\").drop_duplicates('text', keep='first')\n",
    "\n",
    "# rest_1\n",
    "zephyr_rest_1 = pd.read_csv(\"data/annotated/rest_1/zephyr-7b-beta.csv\").drop_duplicates('text', keep='first')\n",
    "openchat_rest_1 = pd.read_csv(\"data/annotated/rest_1/openchat_3.5.csv\").drop_duplicates('text', keep='first')\n",
    "\n",
    "print(\"zephyr_ma: \", zephyr_ma.shape)\n",
    "print(\"openchat_ma: \", openchat_ma.shape)\n",
    "print(\"Llama_ma: \", Llama_ma.shape)\n",
    "print(\"zephyr_rest_1: \", zephyr_rest_1.shape)\n",
    "print(\"openchat_rest_1: \", openchat_rest_1.shape)"
   ],
   "metadata": {
    "collapsed": false
   }
  },
  {
   "cell_type": "code",
   "execution_count": 165,
   "outputs": [
    {
     "name": "stdout",
     "output_type": "stream",
     "text": [
      "df_ma:  (9542, 5)\n",
      "df_rest_1:  (30479, 5)\n"
     ]
    }
   ],
   "source": [
    "# merge all master samples\n",
    "df_ma = pd.concat([zephyr_ma, openchat_ma, Llama_ma]).drop_duplicates('text', keep='first')\n",
    "print(\"df_ma: \", df_ma.shape)\n",
    "#merge all rest_1 samples\n",
    "df_rest_1 = pd.merge(zephyr_rest_1, openchat_rest_1['text']).drop_duplicates('text', keep='first')\n",
    "print(\"df_rest_1: \", df_rest_1.shape)"
   ],
   "metadata": {
    "collapsed": false
   }
  },
  {
   "cell_type": "code",
   "execution_count": 166,
   "outputs": [
    {
     "name": "stdout",
     "output_type": "stream",
     "text": [
      "df_all:  (39148, 5)\n"
     ]
    }
   ],
   "source": [
    "# concat all samples\n",
    "df_all_annotated = pd.concat([df_ma, df_rest_1]).drop_duplicates('text', keep='first')\n",
    "print(\"df_all: \", df_all_annotated.shape)"
   ],
   "metadata": {
    "collapsed": false
   }
  },
  {
   "cell_type": "code",
   "execution_count": 167,
   "outputs": [
    {
     "name": "stdout",
     "output_type": "stream",
     "text": [
      "df_already_annotated:  (15212, 8)\n"
     ]
    },
    {
     "data": {
      "text/plain": "                                                    text source_party  \\\n0      How did a virus like this get from a bat to a ...         Left   \n1      Sin was conceived in a garden, takes root in e...   Lean Right   \n2      Former Vice President Al Gore not only won an ...        Right   \n3      Google arguably goes the farthest, with AI-pow...       Center   \n4      In this article: Silly Group Chat Names Funny ...         Left   \n...                                                  ...          ...   \n15207  The museum said it also submitted information ...        Right   \n15208  The PS5 slim’s disc drive wonkiness, combined ...    Lean Left   \n15209  Does anyone think Biden calls the shots on any...   Lean Right   \n15210  But even more than toad-smoking, this recipe r...         Left   \n15211  In theory, there has never been a better time ...    Lean Left   \n\n              source_name  bias_estimate  model_uncertainity  \\\n0                alternet              1                   0   \n1      the-christian-post              1                   0   \n2                 newsmax              1                   0   \n3                    cnet              1                   0   \n4              teen-vogue              1                   0   \n...                   ...            ...                 ...   \n15207            fox-news              0                   0   \n15208           the-verge              1                   0   \n15209              hotair              1                   0   \n15210            alternet              1                   0   \n15211        the-guardian              1                   1   \n\n                                sentence_id  \\\n0      1050d536-e626-4647-9cc5-12b731d99077   \n1      d3910f76-fca5-44cf-98ff-c89b744743e2   \n2      d990e4d7-c8b1-4e20-9a20-d097348944c8   \n3      e4697ceb-887a-4f81-a9a8-5b03d8e5747d   \n4      6f69b2d0-ab09-4219-87ed-dd66a7926a91   \n...                                     ...   \n15207  97acd5fa-99f6-46bd-ace7-bda38490c7ab   \n15208  dbbb6f19-4cba-4cb9-8966-4f90d4ead24b   \n15209  3433aa2e-6389-4a51-8fb4-ac8fdde1f757   \n15210  a6d1856b-898c-4d27-a883-a921c239ba27   \n15211  3d32ba5f-9779-41f9-bc2c-d85f6f05c5dc   \n\n                                 article_id  \\\n0      f54d2a6e-a1dd-42a5-af86-866e5fe8680e   \n1      12f3585f-d850-4d33-8b1c-d4e25cc4896b   \n2      ed83c941-84f1-40ce-a293-effce2ecdef8   \n3      5ae69203-9d50-4d75-a647-65dffc8b9961   \n4      3d483126-2a6d-44e3-b6b5-69ce2434eb91   \n...                                     ...   \n15207  57dfec9e-8592-4aae-b3e7-5faea1aad592   \n15208  6e95334c-db32-45e2-93f5-cfb3acb3aa79   \n15209  82f43006-ca0f-4043-9852-4f06bcbf93bb   \n15210  ea9c42ed-31ed-48f5-b1c2-ec960834cbbf   \n15211  fc9452a6-7476-4cf6-8cc1-a11d2ddef01a   \n\n                                                response  \n0      The sentence is classified as not biased becau...  \n1      The sentence is biased because it presents a r...  \n2      The sentence is biased because it uses loaded ...  \n3      The sentence is labeled as not biased because ...  \n4      The sentence is not biased because it is a des...  \n...                                                  ...  \n15207  The sentence is not biased because it presents...  \n15208  The sentence is not considered biased because ...  \n15209  The sentence is classified as biased because i...  \n15210  The sentence exhibits strong emotional languag...  \n15211  The sentence is labeled as biased because it p...  \n\n[15212 rows x 8 columns]",
      "text/html": "<div>\n<style scoped>\n    .dataframe tbody tr th:only-of-type {\n        vertical-align: middle;\n    }\n\n    .dataframe tbody tr th {\n        vertical-align: top;\n    }\n\n    .dataframe thead th {\n        text-align: right;\n    }\n</style>\n<table border=\"1\" class=\"dataframe\">\n  <thead>\n    <tr style=\"text-align: right;\">\n      <th></th>\n      <th>text</th>\n      <th>source_party</th>\n      <th>source_name</th>\n      <th>bias_estimate</th>\n      <th>model_uncertainity</th>\n      <th>sentence_id</th>\n      <th>article_id</th>\n      <th>response</th>\n    </tr>\n  </thead>\n  <tbody>\n    <tr>\n      <th>0</th>\n      <td>How did a virus like this get from a bat to a ...</td>\n      <td>Left</td>\n      <td>alternet</td>\n      <td>1</td>\n      <td>0</td>\n      <td>1050d536-e626-4647-9cc5-12b731d99077</td>\n      <td>f54d2a6e-a1dd-42a5-af86-866e5fe8680e</td>\n      <td>The sentence is classified as not biased becau...</td>\n    </tr>\n    <tr>\n      <th>1</th>\n      <td>Sin was conceived in a garden, takes root in e...</td>\n      <td>Lean Right</td>\n      <td>the-christian-post</td>\n      <td>1</td>\n      <td>0</td>\n      <td>d3910f76-fca5-44cf-98ff-c89b744743e2</td>\n      <td>12f3585f-d850-4d33-8b1c-d4e25cc4896b</td>\n      <td>The sentence is biased because it presents a r...</td>\n    </tr>\n    <tr>\n      <th>2</th>\n      <td>Former Vice President Al Gore not only won an ...</td>\n      <td>Right</td>\n      <td>newsmax</td>\n      <td>1</td>\n      <td>0</td>\n      <td>d990e4d7-c8b1-4e20-9a20-d097348944c8</td>\n      <td>ed83c941-84f1-40ce-a293-effce2ecdef8</td>\n      <td>The sentence is biased because it uses loaded ...</td>\n    </tr>\n    <tr>\n      <th>3</th>\n      <td>Google arguably goes the farthest, with AI-pow...</td>\n      <td>Center</td>\n      <td>cnet</td>\n      <td>1</td>\n      <td>0</td>\n      <td>e4697ceb-887a-4f81-a9a8-5b03d8e5747d</td>\n      <td>5ae69203-9d50-4d75-a647-65dffc8b9961</td>\n      <td>The sentence is labeled as not biased because ...</td>\n    </tr>\n    <tr>\n      <th>4</th>\n      <td>In this article: Silly Group Chat Names Funny ...</td>\n      <td>Left</td>\n      <td>teen-vogue</td>\n      <td>1</td>\n      <td>0</td>\n      <td>6f69b2d0-ab09-4219-87ed-dd66a7926a91</td>\n      <td>3d483126-2a6d-44e3-b6b5-69ce2434eb91</td>\n      <td>The sentence is not biased because it is a des...</td>\n    </tr>\n    <tr>\n      <th>...</th>\n      <td>...</td>\n      <td>...</td>\n      <td>...</td>\n      <td>...</td>\n      <td>...</td>\n      <td>...</td>\n      <td>...</td>\n      <td>...</td>\n    </tr>\n    <tr>\n      <th>15207</th>\n      <td>The museum said it also submitted information ...</td>\n      <td>Right</td>\n      <td>fox-news</td>\n      <td>0</td>\n      <td>0</td>\n      <td>97acd5fa-99f6-46bd-ace7-bda38490c7ab</td>\n      <td>57dfec9e-8592-4aae-b3e7-5faea1aad592</td>\n      <td>The sentence is not biased because it presents...</td>\n    </tr>\n    <tr>\n      <th>15208</th>\n      <td>The PS5 slim’s disc drive wonkiness, combined ...</td>\n      <td>Lean Left</td>\n      <td>the-verge</td>\n      <td>1</td>\n      <td>0</td>\n      <td>dbbb6f19-4cba-4cb9-8966-4f90d4ead24b</td>\n      <td>6e95334c-db32-45e2-93f5-cfb3acb3aa79</td>\n      <td>The sentence is not considered biased because ...</td>\n    </tr>\n    <tr>\n      <th>15209</th>\n      <td>Does anyone think Biden calls the shots on any...</td>\n      <td>Lean Right</td>\n      <td>hotair</td>\n      <td>1</td>\n      <td>0</td>\n      <td>3433aa2e-6389-4a51-8fb4-ac8fdde1f757</td>\n      <td>82f43006-ca0f-4043-9852-4f06bcbf93bb</td>\n      <td>The sentence is classified as biased because i...</td>\n    </tr>\n    <tr>\n      <th>15210</th>\n      <td>But even more than toad-smoking, this recipe r...</td>\n      <td>Left</td>\n      <td>alternet</td>\n      <td>1</td>\n      <td>0</td>\n      <td>a6d1856b-898c-4d27-a883-a921c239ba27</td>\n      <td>ea9c42ed-31ed-48f5-b1c2-ec960834cbbf</td>\n      <td>The sentence exhibits strong emotional languag...</td>\n    </tr>\n    <tr>\n      <th>15211</th>\n      <td>In theory, there has never been a better time ...</td>\n      <td>Lean Left</td>\n      <td>the-guardian</td>\n      <td>1</td>\n      <td>1</td>\n      <td>3d32ba5f-9779-41f9-bc2c-d85f6f05c5dc</td>\n      <td>fc9452a6-7476-4cf6-8cc1-a11d2ddef01a</td>\n      <td>The sentence is labeled as biased because it p...</td>\n    </tr>\n  </tbody>\n</table>\n<p>15212 rows × 8 columns</p>\n</div>"
     },
     "execution_count": 167,
     "metadata": {},
     "output_type": "execute_result"
    }
   ],
   "source": [
    "df_already_annotated = pd.merge(df_new, df_all_annotated[['text', 'response']], on='text')\n",
    "print(\"df_already_annotated: \", df_already_annotated.shape)\n",
    "df_already_annotated"
   ],
   "metadata": {
    "collapsed": false
   }
  },
  {
   "cell_type": "markdown",
   "source": [
    "# Data to be annotated in new Dataset"
   ],
   "metadata": {
    "collapsed": false
   }
  },
  {
   "cell_type": "code",
   "execution_count": 168,
   "outputs": [
    {
     "data": {
      "text/plain": "                                                    text source_party  \\\n0      Advertisement Initially, the conference attrac...        Right   \n1      The number of workers maintaining wind turbine...         Left   \n4      The two countries have warred over this territ...   Lean Right   \n5      Client also represents, warrants and covenants...    Lean Left   \n6      Rosalynn and Jimmy Cater (center) with (from l...    Lean Left   \n...                                                  ...          ...   \n66217  The Gig Economy is Coming. What Will It Mean F...         Left   \n66218  He arrived, freshly graduated, and told me he ...       Center   \n66219  This is not a good time for American higher ed...        Right   \n66220  Halls pleaded no contest in March to a misdeme...       Center   \n66221  Orcutt also took his electric guitar quartet o...    Lean Left   \n\n                     source_name  bias_estimate  model_uncertainity  \\\n0                       townhall              0                   0   \n1                       alternet              0                   0   \n4             the-christian-post              0                   0   \n5         san-diego-uniontribune              0                   0   \n6               chicago-suntimes              0                   0   \n...                          ...            ...                 ...   \n66217                   alternet              0                   0   \n66218  christian-science-monitor              0                   0   \n66219           american-thinker              1                   0   \n66220                       cnbc              0                   0   \n66221                        npr              1                   0   \n\n                                sentence_id  \\\n0      bd51e6ee-8e88-4901-875d-8c5151b42692   \n1      681738a3-6f56-4124-aae4-52bf803c4d22   \n4      c9c2c432-d67c-450b-b6d3-1fbd3e4951df   \n5      1d9dc2e9-f237-4d97-9f5a-fa0260340818   \n6      1c7fced8-103a-47fd-94cb-37c0bea83bff   \n...                                     ...   \n66217  57e37079-3ab5-4a80-95a7-867256f089e7   \n66218  4593350c-36d1-44ed-b6b0-4fb8655b55b7   \n66219  92adcba8-bd22-4c3e-8bd5-af58c45ce9fa   \n66220  81f1f6cf-b8e6-436d-ad2b-3d56c4e9c110   \n66221  cae57a11-b669-40d0-8305-f6ad7d23cb41   \n\n                                 article_id  \n0      f87a85cb-a8d7-4a63-b71d-50342f2022c3  \n1      62e545ca-11ee-44be-9422-54eff5b1680e  \n4      715e6c9e-1b12-4341-9f26-3c00c246ee1b  \n5      60403f7d-9e41-4bbb-bd8f-7feea08488f0  \n6      5a2bc9f7-bb6a-43de-a564-5e8496b375bf  \n...                                     ...  \n66217  8c907329-affd-4446-9ea4-0bdae1ed04cd  \n66218  fb4c99c1-488b-4337-be4d-c2208a249602  \n66219  e517de10-85b8-4273-b392-3495a70f4af5  \n66220  8e89132c-acc2-4b5e-a6e4-b51a9f2d4d2e  \n66221  c5ba0671-15db-4cff-94e0-d5df7619ccba  \n\n[51004 rows x 7 columns]",
      "text/html": "<div>\n<style scoped>\n    .dataframe tbody tr th:only-of-type {\n        vertical-align: middle;\n    }\n\n    .dataframe tbody tr th {\n        vertical-align: top;\n    }\n\n    .dataframe thead th {\n        text-align: right;\n    }\n</style>\n<table border=\"1\" class=\"dataframe\">\n  <thead>\n    <tr style=\"text-align: right;\">\n      <th></th>\n      <th>text</th>\n      <th>source_party</th>\n      <th>source_name</th>\n      <th>bias_estimate</th>\n      <th>model_uncertainity</th>\n      <th>sentence_id</th>\n      <th>article_id</th>\n    </tr>\n  </thead>\n  <tbody>\n    <tr>\n      <th>0</th>\n      <td>Advertisement Initially, the conference attrac...</td>\n      <td>Right</td>\n      <td>townhall</td>\n      <td>0</td>\n      <td>0</td>\n      <td>bd51e6ee-8e88-4901-875d-8c5151b42692</td>\n      <td>f87a85cb-a8d7-4a63-b71d-50342f2022c3</td>\n    </tr>\n    <tr>\n      <th>1</th>\n      <td>The number of workers maintaining wind turbine...</td>\n      <td>Left</td>\n      <td>alternet</td>\n      <td>0</td>\n      <td>0</td>\n      <td>681738a3-6f56-4124-aae4-52bf803c4d22</td>\n      <td>62e545ca-11ee-44be-9422-54eff5b1680e</td>\n    </tr>\n    <tr>\n      <th>4</th>\n      <td>The two countries have warred over this territ...</td>\n      <td>Lean Right</td>\n      <td>the-christian-post</td>\n      <td>0</td>\n      <td>0</td>\n      <td>c9c2c432-d67c-450b-b6d3-1fbd3e4951df</td>\n      <td>715e6c9e-1b12-4341-9f26-3c00c246ee1b</td>\n    </tr>\n    <tr>\n      <th>5</th>\n      <td>Client also represents, warrants and covenants...</td>\n      <td>Lean Left</td>\n      <td>san-diego-uniontribune</td>\n      <td>0</td>\n      <td>0</td>\n      <td>1d9dc2e9-f237-4d97-9f5a-fa0260340818</td>\n      <td>60403f7d-9e41-4bbb-bd8f-7feea08488f0</td>\n    </tr>\n    <tr>\n      <th>6</th>\n      <td>Rosalynn and Jimmy Cater (center) with (from l...</td>\n      <td>Lean Left</td>\n      <td>chicago-suntimes</td>\n      <td>0</td>\n      <td>0</td>\n      <td>1c7fced8-103a-47fd-94cb-37c0bea83bff</td>\n      <td>5a2bc9f7-bb6a-43de-a564-5e8496b375bf</td>\n    </tr>\n    <tr>\n      <th>...</th>\n      <td>...</td>\n      <td>...</td>\n      <td>...</td>\n      <td>...</td>\n      <td>...</td>\n      <td>...</td>\n      <td>...</td>\n    </tr>\n    <tr>\n      <th>66217</th>\n      <td>The Gig Economy is Coming. What Will It Mean F...</td>\n      <td>Left</td>\n      <td>alternet</td>\n      <td>0</td>\n      <td>0</td>\n      <td>57e37079-3ab5-4a80-95a7-867256f089e7</td>\n      <td>8c907329-affd-4446-9ea4-0bdae1ed04cd</td>\n    </tr>\n    <tr>\n      <th>66218</th>\n      <td>He arrived, freshly graduated, and told me he ...</td>\n      <td>Center</td>\n      <td>christian-science-monitor</td>\n      <td>0</td>\n      <td>0</td>\n      <td>4593350c-36d1-44ed-b6b0-4fb8655b55b7</td>\n      <td>fb4c99c1-488b-4337-be4d-c2208a249602</td>\n    </tr>\n    <tr>\n      <th>66219</th>\n      <td>This is not a good time for American higher ed...</td>\n      <td>Right</td>\n      <td>american-thinker</td>\n      <td>1</td>\n      <td>0</td>\n      <td>92adcba8-bd22-4c3e-8bd5-af58c45ce9fa</td>\n      <td>e517de10-85b8-4273-b392-3495a70f4af5</td>\n    </tr>\n    <tr>\n      <th>66220</th>\n      <td>Halls pleaded no contest in March to a misdeme...</td>\n      <td>Center</td>\n      <td>cnbc</td>\n      <td>0</td>\n      <td>0</td>\n      <td>81f1f6cf-b8e6-436d-ad2b-3d56c4e9c110</td>\n      <td>8e89132c-acc2-4b5e-a6e4-b51a9f2d4d2e</td>\n    </tr>\n    <tr>\n      <th>66221</th>\n      <td>Orcutt also took his electric guitar quartet o...</td>\n      <td>Lean Left</td>\n      <td>npr</td>\n      <td>1</td>\n      <td>0</td>\n      <td>cae57a11-b669-40d0-8305-f6ad7d23cb41</td>\n      <td>c5ba0671-15db-4cff-94e0-d5df7619ccba</td>\n    </tr>\n  </tbody>\n</table>\n<p>51004 rows × 7 columns</p>\n</div>"
     },
     "execution_count": 168,
     "metadata": {},
     "output_type": "execute_result"
    }
   ],
   "source": [
    "df_to_annotate = pd.merge(df_new, df_already_annotated['text'], on='text', how='left', indicator=True)\n",
    "df_to_annotate = df_to_annotate[df_to_annotate['_merge'] == 'left_only'].drop(columns=['_merge'])\n",
    "df_to_annotate"
   ],
   "metadata": {
    "collapsed": false
   }
  },
  {
   "cell_type": "code",
   "execution_count": 169,
   "outputs": [
    {
     "name": "stdout",
     "output_type": "stream",
     "text": [
      "part1:  (25502, 7)\n",
      "part2:  (25502, 7)\n"
     ]
    }
   ],
   "source": [
    "import numpy as np\n",
    "\n",
    "# Specify the number of parts you want to split the DataFrame into\n",
    "num_parts = 2\n",
    "\n",
    "# Use numpy.array_split to split the DataFrame\n",
    "split_dataframes = np.array_split(df_to_annotate, num_parts)\n",
    "\n",
    "part1 = split_dataframes[0].drop_duplicates()\n",
    "part2 = split_dataframes[1].drop_duplicates()\n",
    "print(\"part1: \", part1.shape)\n",
    "print(\"part2: \", part2.shape)\n",
    "\n",
    "part1.to_csv('data/output/final_sentence_pool_to_annotate_part1.csv', index=False)\n",
    "part2.to_csv('data/output/final_sentence_pool_to_annotate_part2.csv', index=False)"
   ],
   "metadata": {
    "collapsed": false
   }
  },
  {
   "cell_type": "code",
   "execution_count": 170,
   "outputs": [
    {
     "name": "stdout",
     "output_type": "stream",
     "text": [
      "part1_1:  (12751, 7)\n",
      "part1_2:  (12751, 7)\n"
     ]
    }
   ],
   "source": [
    "#split part 1 and part 2 again\n",
    "\n",
    "\n",
    "# Use numpy.array_split to split the DataFrame\n",
    "split_dataframes = np.array_split(part1, num_parts)\n",
    "\n",
    "part1_1 = split_dataframes[0].drop_duplicates()\n",
    "part1_2 = split_dataframes[1].drop_duplicates()\n",
    "print(\"part1_1: \", part1_1.shape)\n",
    "print(\"part1_2: \", part1_2.shape)\n",
    "part1_1.to_csv('data/output/final_sentence_pool_to_annotate_part1_1.csv', index=False)\n",
    "part1_2.to_csv('data/output/final_sentence_pool_to_annotate_part1_2.csv', index=False)"
   ],
   "metadata": {
    "collapsed": false
   }
  },
  {
   "cell_type": "code",
   "execution_count": 171,
   "outputs": [
    {
     "name": "stdout",
     "output_type": "stream",
     "text": [
      "part2_1:  (12751, 7)\n",
      "part2_2:  (12751, 7)\n"
     ]
    }
   ],
   "source": [
    "split_dataframes = np.array_split(part2, num_parts)\n",
    "\n",
    "part2_1 = split_dataframes[0].drop_duplicates()\n",
    "part2_2 = split_dataframes[1].drop_duplicates()\n",
    "print(\"part2_1: \", part2_1.shape)\n",
    "print(\"part2_2: \", part2_2.shape)\n",
    "part2_1.to_csv('data/output/final_sentence_pool_to_annotate_part2_1.csv', index=False)\n",
    "part2_2.to_csv('data/output/final_sentence_pool_to_annotate_part2_2.csv', index=False)"
   ],
   "metadata": {
    "collapsed": false
   }
  }
 ],
 "metadata": {
  "kernelspec": {
   "display_name": "Python 3",
   "language": "python",
   "name": "python3"
  },
  "language_info": {
   "codemirror_mode": {
    "name": "ipython",
    "version": 2
   },
   "file_extension": ".py",
   "mimetype": "text/x-python",
   "name": "python",
   "nbconvert_exporter": "python",
   "pygments_lexer": "ipython2",
   "version": "2.7.6"
  }
 },
 "nbformat": 4,
 "nbformat_minor": 0
}
