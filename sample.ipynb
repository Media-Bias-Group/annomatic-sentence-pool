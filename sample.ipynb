{
 "cells": [
  {
   "cell_type": "code",
   "execution_count": 129,
   "metadata": {
    "collapsed": true
   },
   "outputs": [],
   "source": [
    "import pandas as pd"
   ]
  },
  {
   "cell_type": "code",
   "execution_count": 130,
   "outputs": [
    {
     "name": "stdout",
     "output_type": "stream",
     "text": [
      "(76784, 8)\n"
     ]
    }
   ],
   "source": [
    "final_sentence_pool = 'final_sentence_pool'\n",
    "df = pd.read_csv(f\"data/output/{final_sentence_pool}.csv\")\n",
    "print(df.shape)\n",
    "df.head()"
   ],
   "metadata": {
    "collapsed": false
   }
  },
  {
   "cell_type": "markdown",
   "source": [
    "# Clean some special characters\n",
    "\n",
    "1. '—' with '-'\n",
    "2. '…' with '...'\n",
    "3. remove leading whitespace"
   ],
   "metadata": {
    "collapsed": false
   }
  },
  {
   "cell_type": "code",
   "execution_count": 131,
   "outputs": [],
   "source": [
    "df['text'] = df['text'].str.replace('—', '-')\n",
    "df['text'] = df['text'].str.replace('–', '-')\n",
    "df['text'] = df['text'].str.replace('…', '...')\n",
    "df['text'] = df['text'].str.lstrip()"
   ],
   "metadata": {
    "collapsed": false
   }
  },
  {
   "cell_type": "code",
   "execution_count": 132,
   "outputs": [
    {
     "data": {
      "text/plain": "                                                    text source_party  \\\n6      Saks Fifth Avenue Keep your wife on-trend (esp...   Lean Right   \n8      I spoonfed my child and, despite my being told...    Lean Left   \n10     The Department’s research also found that this...       Center   \n12     The researchers conducted a hearing loss test ...    Lean Left   \n18     Listen to Decoder, a show hosted by The Verge’...    Lean Left   \n...                                                  ...          ...   \n76763  Bumstead, who routinely refurbishes MacBooks t...    Lean Left   \n76769  Biden’s chief in-party rival Robert F. Kennedy...        Right   \n76777  Meanwhile, California clings to a government-r...        Right   \n76778  The violence and vengeance in Trump’s remarks ...         Left   \n76783  It’s the type of passage that may prompt the r...    Lean Left   \n\n                     source_name           topic  bias_estimate  \\\n6                  new-york-post      Gastronomy              0   \n8                   the-guardian      Gastronomy              1   \n10     christian-science-monitor       Education              0   \n12                      nbc-news        Wellness              0   \n18                     the-verge      Automotive              0   \n...                          ...             ...            ...   \n76763                  the-verge  Conversational              0   \n76769                newsbusters        Politics              0   \n76777     the-american-spectator        Politics              1   \n76778                   alternet        Politics              1   \n76783                vanity-fair      Literature              0   \n\n       model_uncertainity                           sentence_id  \\\n6                       1  1be7cef8-2a16-4f2e-a6cb-4f2082cad643   \n8                       0  7257b2a2-b3ec-4c58-84dc-015c91a9e3f0   \n10                      0  96cc2caa-db79-471e-a61d-37a6f7abd309   \n12                      0  7593b74f-8abf-422c-9c05-04ba739411b9   \n18                      0  8954eddc-859a-4355-b604-88a5c4edeee1   \n...                   ...                                   ...   \n76763                   0  718f2f1e-10d9-45f1-9894-59cfd4cf9000   \n76769                   1  0111f47a-df68-439b-97f2-ee0b5faeedc1   \n76777                   0  8ef71595-148b-43fd-9247-0825ddd7a7dd   \n76778                   0  875b4f5e-1bbc-4d74-ae23-8a30d87c4d1a   \n76783                   0  45a70ed2-0498-4136-9594-eb74ea2e6b7e   \n\n                                 article_id first_special_character  \n6      945efd06-86f1-43cb-8f89-ec82154e71ed                       ’  \n8      9d240858-ce10-4533-b5d8-eb9fd1cebe4b                       ’  \n10     e12ea2c3-d1c3-42ca-80c9-36ef3a14dada                       ’  \n12     545468a5-e58b-49c9-9b7b-82793cf50743                       ’  \n18     85b15198-5d51-49c7-bb62-a468d9b761a4                       ’  \n...                                     ...                     ...  \n76763  5adb92a2-6da2-499c-a4ce-3a3c415fbe8a                       ’  \n76769  996a145e-adff-427d-82b8-0f54d48cf7ae                       ’  \n76777  4f7106b1-f38d-4bab-b479-9ddde32b4e1c                       ’  \n76778  8070258c-46fc-49d0-afaa-3a8168e69c2e                       ’  \n76783  683e8d27-e3c8-4369-bfc6-1cf3688696ff                       ’  \n\n[19210 rows x 9 columns]",
      "text/html": "<div>\n<style scoped>\n    .dataframe tbody tr th:only-of-type {\n        vertical-align: middle;\n    }\n\n    .dataframe tbody tr th {\n        vertical-align: top;\n    }\n\n    .dataframe thead th {\n        text-align: right;\n    }\n</style>\n<table border=\"1\" class=\"dataframe\">\n  <thead>\n    <tr style=\"text-align: right;\">\n      <th></th>\n      <th>text</th>\n      <th>source_party</th>\n      <th>source_name</th>\n      <th>topic</th>\n      <th>bias_estimate</th>\n      <th>model_uncertainity</th>\n      <th>sentence_id</th>\n      <th>article_id</th>\n      <th>first_special_character</th>\n    </tr>\n  </thead>\n  <tbody>\n    <tr>\n      <th>6</th>\n      <td>Saks Fifth Avenue Keep your wife on-trend (esp...</td>\n      <td>Lean Right</td>\n      <td>new-york-post</td>\n      <td>Gastronomy</td>\n      <td>0</td>\n      <td>1</td>\n      <td>1be7cef8-2a16-4f2e-a6cb-4f2082cad643</td>\n      <td>945efd06-86f1-43cb-8f89-ec82154e71ed</td>\n      <td>’</td>\n    </tr>\n    <tr>\n      <th>8</th>\n      <td>I spoonfed my child and, despite my being told...</td>\n      <td>Lean Left</td>\n      <td>the-guardian</td>\n      <td>Gastronomy</td>\n      <td>1</td>\n      <td>0</td>\n      <td>7257b2a2-b3ec-4c58-84dc-015c91a9e3f0</td>\n      <td>9d240858-ce10-4533-b5d8-eb9fd1cebe4b</td>\n      <td>’</td>\n    </tr>\n    <tr>\n      <th>10</th>\n      <td>The Department’s research also found that this...</td>\n      <td>Center</td>\n      <td>christian-science-monitor</td>\n      <td>Education</td>\n      <td>0</td>\n      <td>0</td>\n      <td>96cc2caa-db79-471e-a61d-37a6f7abd309</td>\n      <td>e12ea2c3-d1c3-42ca-80c9-36ef3a14dada</td>\n      <td>’</td>\n    </tr>\n    <tr>\n      <th>12</th>\n      <td>The researchers conducted a hearing loss test ...</td>\n      <td>Lean Left</td>\n      <td>nbc-news</td>\n      <td>Wellness</td>\n      <td>0</td>\n      <td>0</td>\n      <td>7593b74f-8abf-422c-9c05-04ba739411b9</td>\n      <td>545468a5-e58b-49c9-9b7b-82793cf50743</td>\n      <td>’</td>\n    </tr>\n    <tr>\n      <th>18</th>\n      <td>Listen to Decoder, a show hosted by The Verge’...</td>\n      <td>Lean Left</td>\n      <td>the-verge</td>\n      <td>Automotive</td>\n      <td>0</td>\n      <td>0</td>\n      <td>8954eddc-859a-4355-b604-88a5c4edeee1</td>\n      <td>85b15198-5d51-49c7-bb62-a468d9b761a4</td>\n      <td>’</td>\n    </tr>\n    <tr>\n      <th>...</th>\n      <td>...</td>\n      <td>...</td>\n      <td>...</td>\n      <td>...</td>\n      <td>...</td>\n      <td>...</td>\n      <td>...</td>\n      <td>...</td>\n      <td>...</td>\n    </tr>\n    <tr>\n      <th>76763</th>\n      <td>Bumstead, who routinely refurbishes MacBooks t...</td>\n      <td>Lean Left</td>\n      <td>the-verge</td>\n      <td>Conversational</td>\n      <td>0</td>\n      <td>0</td>\n      <td>718f2f1e-10d9-45f1-9894-59cfd4cf9000</td>\n      <td>5adb92a2-6da2-499c-a4ce-3a3c415fbe8a</td>\n      <td>’</td>\n    </tr>\n    <tr>\n      <th>76769</th>\n      <td>Biden’s chief in-party rival Robert F. Kennedy...</td>\n      <td>Right</td>\n      <td>newsbusters</td>\n      <td>Politics</td>\n      <td>0</td>\n      <td>1</td>\n      <td>0111f47a-df68-439b-97f2-ee0b5faeedc1</td>\n      <td>996a145e-adff-427d-82b8-0f54d48cf7ae</td>\n      <td>’</td>\n    </tr>\n    <tr>\n      <th>76777</th>\n      <td>Meanwhile, California clings to a government-r...</td>\n      <td>Right</td>\n      <td>the-american-spectator</td>\n      <td>Politics</td>\n      <td>1</td>\n      <td>0</td>\n      <td>8ef71595-148b-43fd-9247-0825ddd7a7dd</td>\n      <td>4f7106b1-f38d-4bab-b479-9ddde32b4e1c</td>\n      <td>’</td>\n    </tr>\n    <tr>\n      <th>76778</th>\n      <td>The violence and vengeance in Trump’s remarks ...</td>\n      <td>Left</td>\n      <td>alternet</td>\n      <td>Politics</td>\n      <td>1</td>\n      <td>0</td>\n      <td>875b4f5e-1bbc-4d74-ae23-8a30d87c4d1a</td>\n      <td>8070258c-46fc-49d0-afaa-3a8168e69c2e</td>\n      <td>’</td>\n    </tr>\n    <tr>\n      <th>76783</th>\n      <td>It’s the type of passage that may prompt the r...</td>\n      <td>Lean Left</td>\n      <td>vanity-fair</td>\n      <td>Literature</td>\n      <td>0</td>\n      <td>0</td>\n      <td>45a70ed2-0498-4136-9594-eb74ea2e6b7e</td>\n      <td>683e8d27-e3c8-4369-bfc6-1cf3688696ff</td>\n      <td>’</td>\n    </tr>\n  </tbody>\n</table>\n<p>19210 rows × 9 columns</p>\n</div>"
     },
     "execution_count": 132,
     "metadata": {},
     "output_type": "execute_result"
    }
   ],
   "source": [
    "\n",
    "# List of special characters\n",
    "special_characters = ['—', '…', '•', '°', '©', '®', '™', '§', '†', '‡', '¶', '“', '”', '‘', '’', '«', '»', '—', '–']\n",
    "\n",
    "# Use vectorized operations to check for special characters\n",
    "contains_special_char = df['text'].apply(lambda x: any(char in x for char in special_characters))\n",
    "df_with_special_chars = df[contains_special_char].copy()\n",
    "\n",
    "# Function to find the first special character in a string\n",
    "def find_special_character(text):\n",
    "    for char in special_characters:\n",
    "        if char in text:\n",
    "            return char\n",
    "    return None\n",
    "\n",
    "# Apply the function to get the first special character\n",
    "df_with_special_chars['first_special_character'] = df_with_special_chars['text'].apply(find_special_character)\n",
    "\n",
    "# Display the 'results' DataFrame\n",
    "df_with_special_chars"
   ],
   "metadata": {
    "collapsed": false
   }
  },
  {
   "cell_type": "markdown",
   "source": [
    "# Remove sentences that start with a dash or em dash\n",
    "\n",
    "these sentences are usually corrections of previous sentences and are not useful for our purposes. Also there some links that start with a dash that we don't want to include.\n",
    "\n",
    "This may also remove some sentences that are useful, but we can manually add those back in later. Should be a small number."
   ],
   "metadata": {
    "collapsed": false
   }
  },
  {
   "cell_type": "code",
   "execution_count": 133,
   "outputs": [],
   "source": [
    "df['text'] = df['text'].str.replace('—', '-')\n",
    "df['text'] = df['text'].str.replace('–', '-')\n",
    "df['text'] = df['text'].str.replace('…', '...')\n",
    "df['text'] = df['text'].str.lstrip()\n",
    "df = df[~df['text'].str.startswith('-')]"
   ],
   "metadata": {
    "collapsed": false
   }
  },
  {
   "cell_type": "code",
   "execution_count": 134,
   "outputs": [
    {
     "data": {
      "text/plain": "                                                    text source_party  \\\n0      This was severely condemned by Pope Clement VI...   Lean Right   \n1      Some ambitious local authorities are already f...    Lean Left   \n2      I'm gonna go farther and even say Unicorn Barb...    Lean Left   \n3      Florida Man Doing Fine The anti-transparency a...   Lean Right   \n4      The group advocates for the secession of the n...       Center   \n...                                                  ...          ...   \n76779  Churchill died before Jonathan was born, but J...   Lean Right   \n76780  The war spawned a wealth of fakery online: Fas...       Center   \n76781  But what if Fox News moderators Dana Perino an...         Left   \n76782  Disney is also searching for a successor to Ig...       Center   \n76783  It’s the type of passage that may prompt the r...    Lean Left   \n\n              source_name           topic  bias_estimate  model_uncertainity  \\\n0      christianity-today        Disaster              1                   0   \n1            the-guardian  Conversational              1                   0   \n2             vanity-fair   Entertainment              1                   0   \n3                  reason  Conversational              1                   0   \n4                    cnbc       Diplomacy              1                   1   \n...                   ...             ...            ...                 ...   \n76779  the-christian-post  Conversational              0                   0   \n76780             fortune  Conversational              1                   0   \n76781            alternet        Politics              0                   1   \n76782                cnbc         Finance              0                   0   \n76783         vanity-fair      Literature              0                   0   \n\n                                sentence_id  \\\n0      dcbe6b0a-ad1a-4ad3-a267-fdce3ef9ba94   \n1      d0a10b7a-8de8-430a-940b-86d6769bb551   \n2      af87c685-dc52-4875-8493-87e59e75ad1a   \n3      ff879773-73c1-4c49-ad46-81ac82b21237   \n4      b9f9c7a7-6bcf-476f-9bdc-c5f339d7d08e   \n...                                     ...   \n76779  d233198e-e811-4bd1-b693-26d287207cf0   \n76780  abbda34f-f543-4958-bedf-5e62d3d4d9bd   \n76781  bba983b3-5696-4d06-9b53-0de16078d324   \n76782  86234e94-602a-409e-a462-70cd38327a6f   \n76783  45a70ed2-0498-4136-9594-eb74ea2e6b7e   \n\n                                 article_id  \n0      492b998c-1a9a-4bda-b746-92aeeb509068  \n1      7e294d95-e321-43fd-ba2a-cbe91af72369  \n2      8cc50f16-516e-439e-9550-33c480641b3e  \n3      8894eaf6-7458-4953-bdbc-bfc5964df2f4  \n4      e28e1ffe-71a4-4918-b8f6-c5360595d7eb  \n...                                     ...  \n76779  017f4bfa-0ba7-4a4e-9138-af96463a848a  \n76780  4d77dc11-32c3-4e63-8749-259ee4308d3e  \n76781  300e033f-798c-4c5e-ab2d-48911d805921  \n76782  11669250-e30f-4418-9e3a-992a03b471db  \n76783  683e8d27-e3c8-4369-bfc6-1cf3688696ff  \n\n[76428 rows x 8 columns]",
      "text/html": "<div>\n<style scoped>\n    .dataframe tbody tr th:only-of-type {\n        vertical-align: middle;\n    }\n\n    .dataframe tbody tr th {\n        vertical-align: top;\n    }\n\n    .dataframe thead th {\n        text-align: right;\n    }\n</style>\n<table border=\"1\" class=\"dataframe\">\n  <thead>\n    <tr style=\"text-align: right;\">\n      <th></th>\n      <th>text</th>\n      <th>source_party</th>\n      <th>source_name</th>\n      <th>topic</th>\n      <th>bias_estimate</th>\n      <th>model_uncertainity</th>\n      <th>sentence_id</th>\n      <th>article_id</th>\n    </tr>\n  </thead>\n  <tbody>\n    <tr>\n      <th>0</th>\n      <td>This was severely condemned by Pope Clement VI...</td>\n      <td>Lean Right</td>\n      <td>christianity-today</td>\n      <td>Disaster</td>\n      <td>1</td>\n      <td>0</td>\n      <td>dcbe6b0a-ad1a-4ad3-a267-fdce3ef9ba94</td>\n      <td>492b998c-1a9a-4bda-b746-92aeeb509068</td>\n    </tr>\n    <tr>\n      <th>1</th>\n      <td>Some ambitious local authorities are already f...</td>\n      <td>Lean Left</td>\n      <td>the-guardian</td>\n      <td>Conversational</td>\n      <td>1</td>\n      <td>0</td>\n      <td>d0a10b7a-8de8-430a-940b-86d6769bb551</td>\n      <td>7e294d95-e321-43fd-ba2a-cbe91af72369</td>\n    </tr>\n    <tr>\n      <th>2</th>\n      <td>I'm gonna go farther and even say Unicorn Barb...</td>\n      <td>Lean Left</td>\n      <td>vanity-fair</td>\n      <td>Entertainment</td>\n      <td>1</td>\n      <td>0</td>\n      <td>af87c685-dc52-4875-8493-87e59e75ad1a</td>\n      <td>8cc50f16-516e-439e-9550-33c480641b3e</td>\n    </tr>\n    <tr>\n      <th>3</th>\n      <td>Florida Man Doing Fine The anti-transparency a...</td>\n      <td>Lean Right</td>\n      <td>reason</td>\n      <td>Conversational</td>\n      <td>1</td>\n      <td>0</td>\n      <td>ff879773-73c1-4c49-ad46-81ac82b21237</td>\n      <td>8894eaf6-7458-4953-bdbc-bfc5964df2f4</td>\n    </tr>\n    <tr>\n      <th>4</th>\n      <td>The group advocates for the secession of the n...</td>\n      <td>Center</td>\n      <td>cnbc</td>\n      <td>Diplomacy</td>\n      <td>1</td>\n      <td>1</td>\n      <td>b9f9c7a7-6bcf-476f-9bdc-c5f339d7d08e</td>\n      <td>e28e1ffe-71a4-4918-b8f6-c5360595d7eb</td>\n    </tr>\n    <tr>\n      <th>...</th>\n      <td>...</td>\n      <td>...</td>\n      <td>...</td>\n      <td>...</td>\n      <td>...</td>\n      <td>...</td>\n      <td>...</td>\n      <td>...</td>\n    </tr>\n    <tr>\n      <th>76779</th>\n      <td>Churchill died before Jonathan was born, but J...</td>\n      <td>Lean Right</td>\n      <td>the-christian-post</td>\n      <td>Conversational</td>\n      <td>0</td>\n      <td>0</td>\n      <td>d233198e-e811-4bd1-b693-26d287207cf0</td>\n      <td>017f4bfa-0ba7-4a4e-9138-af96463a848a</td>\n    </tr>\n    <tr>\n      <th>76780</th>\n      <td>The war spawned a wealth of fakery online: Fas...</td>\n      <td>Center</td>\n      <td>fortune</td>\n      <td>Conversational</td>\n      <td>1</td>\n      <td>0</td>\n      <td>abbda34f-f543-4958-bedf-5e62d3d4d9bd</td>\n      <td>4d77dc11-32c3-4e63-8749-259ee4308d3e</td>\n    </tr>\n    <tr>\n      <th>76781</th>\n      <td>But what if Fox News moderators Dana Perino an...</td>\n      <td>Left</td>\n      <td>alternet</td>\n      <td>Politics</td>\n      <td>0</td>\n      <td>1</td>\n      <td>bba983b3-5696-4d06-9b53-0de16078d324</td>\n      <td>300e033f-798c-4c5e-ab2d-48911d805921</td>\n    </tr>\n    <tr>\n      <th>76782</th>\n      <td>Disney is also searching for a successor to Ig...</td>\n      <td>Center</td>\n      <td>cnbc</td>\n      <td>Finance</td>\n      <td>0</td>\n      <td>0</td>\n      <td>86234e94-602a-409e-a462-70cd38327a6f</td>\n      <td>11669250-e30f-4418-9e3a-992a03b471db</td>\n    </tr>\n    <tr>\n      <th>76783</th>\n      <td>It’s the type of passage that may prompt the r...</td>\n      <td>Lean Left</td>\n      <td>vanity-fair</td>\n      <td>Literature</td>\n      <td>0</td>\n      <td>0</td>\n      <td>45a70ed2-0498-4136-9594-eb74ea2e6b7e</td>\n      <td>683e8d27-e3c8-4369-bfc6-1cf3688696ff</td>\n    </tr>\n  </tbody>\n</table>\n<p>76428 rows × 8 columns</p>\n</div>"
     },
     "execution_count": 134,
     "metadata": {},
     "output_type": "execute_result"
    }
   ],
   "source": [
    "df"
   ],
   "metadata": {
    "collapsed": false
   }
  },
  {
   "cell_type": "markdown",
   "source": [
    "# Sample 10000 sentences for MA\n",
    "\n",
    "1. uniform distribution of sources\n",
    "2. uniform distribution of bias_estimates\n",
    "3. if a source has less than 10000 sentences, sample all of them"
   ],
   "metadata": {
    "collapsed": false
   }
  },
  {
   "cell_type": "code",
   "execution_count": 135,
   "outputs": [
    {
     "data": {
      "text/plain": "                                                    text source_party  \\\n26634  While Kellyanne Conway was a staunch defender ...         Left   \n24242  Three weeks on, the Republicans have been frit...         Left   \n68169  A few years ago, the far-right Britain First c...         Left   \n18608  Jones has a history of prolific fabulism Jones...         Left   \n54591  The fight over masks is heated, and Goodwin, w...         Left   \n...                                                  ...          ...   \n18024  While Special Counsel Jack Smith’s team and Tr...   Lean Right   \n4652   Fiscal Restraint Amid Growing Deficits Citi's ...   Lean Right   \n29992  When Mr. Durbin was asked on Dec. 5 whether he...   Lean Right   \n24175  The policy she outlined included prohibitions ...   Lean Right   \n3805   She issued the rebuke the same day that Presid...   Lean Right   \n\n      source_name           topic  bias_estimate  model_uncertainity  \\\n26634    alternet  Conversational              1                   0   \n24242    alternet        Politics              1                   0   \n68169    alternet       Diplomacy              1                   0   \n18608    alternet        Politics              1                   0   \n54591    alternet        Politics              1                   0   \n...           ...             ...            ...                 ...   \n18024   zerohedge        Politics              0                   0   \n4652    zerohedge        Politics              0                   0   \n29992   zerohedge  Conversational              0                   0   \n24175   zerohedge  Conversational              0                   0   \n3805    zerohedge        Politics              0                   0   \n\n                                sentence_id  \\\n26634  4ef2c7a4-aeb0-4472-898e-45a0ad4ae8fd   \n24242  abcb9997-033a-484e-b751-1611e43c1ce6   \n68169  9f6abed7-36e2-4eec-a5e5-bda8ce599b75   \n18608  23e188e6-c2a4-4cea-907d-2e4930019450   \n54591  9cedba74-945b-4d1a-af64-fab180fe918a   \n...                                     ...   \n18024  b8d0ad8c-9bda-4ad8-ae09-d40d0e72191e   \n4652   614f37bf-4f82-445a-99d2-f91883517e71   \n29992  df68b513-9a51-4968-8186-6318c13b16eb   \n24175  b1bdcdf8-8dfc-4418-829c-91fc33cf0bd1   \n3805   f5fa362a-c2ca-4329-b402-9ea7de09ad21   \n\n                                 article_id  \n26634  5a2356e1-1af6-4ad6-9c7a-f774324b5692  \n24242  d6b392a2-17fa-4593-8d32-93d8723a8596  \n68169  db97115d-b861-4a5b-87af-c120824d9336  \n18608  aa072ec2-4548-403b-a5ec-ae279f086bff  \n54591  27dcd49a-c9d3-4434-96ef-483a2a46c776  \n...                                     ...  \n18024  0f434173-d921-479a-ab75-d3559a501212  \n4652   435e697c-7cc4-4e4c-9237-60140fbbad74  \n29992  ab4053d0-c6e9-4fec-a64b-a4f76e3b0bb0  \n24175  1d176beb-c060-4ba3-891d-9bef3b5b7f57  \n3805   6d99c3c3-48e6-4205-a2ca-68fd96909e1a  \n\n[8743 rows x 8 columns]",
      "text/html": "<div>\n<style scoped>\n    .dataframe tbody tr th:only-of-type {\n        vertical-align: middle;\n    }\n\n    .dataframe tbody tr th {\n        vertical-align: top;\n    }\n\n    .dataframe thead th {\n        text-align: right;\n    }\n</style>\n<table border=\"1\" class=\"dataframe\">\n  <thead>\n    <tr style=\"text-align: right;\">\n      <th></th>\n      <th>text</th>\n      <th>source_party</th>\n      <th>source_name</th>\n      <th>topic</th>\n      <th>bias_estimate</th>\n      <th>model_uncertainity</th>\n      <th>sentence_id</th>\n      <th>article_id</th>\n    </tr>\n  </thead>\n  <tbody>\n    <tr>\n      <th>26634</th>\n      <td>While Kellyanne Conway was a staunch defender ...</td>\n      <td>Left</td>\n      <td>alternet</td>\n      <td>Conversational</td>\n      <td>1</td>\n      <td>0</td>\n      <td>4ef2c7a4-aeb0-4472-898e-45a0ad4ae8fd</td>\n      <td>5a2356e1-1af6-4ad6-9c7a-f774324b5692</td>\n    </tr>\n    <tr>\n      <th>24242</th>\n      <td>Three weeks on, the Republicans have been frit...</td>\n      <td>Left</td>\n      <td>alternet</td>\n      <td>Politics</td>\n      <td>1</td>\n      <td>0</td>\n      <td>abcb9997-033a-484e-b751-1611e43c1ce6</td>\n      <td>d6b392a2-17fa-4593-8d32-93d8723a8596</td>\n    </tr>\n    <tr>\n      <th>68169</th>\n      <td>A few years ago, the far-right Britain First c...</td>\n      <td>Left</td>\n      <td>alternet</td>\n      <td>Diplomacy</td>\n      <td>1</td>\n      <td>0</td>\n      <td>9f6abed7-36e2-4eec-a5e5-bda8ce599b75</td>\n      <td>db97115d-b861-4a5b-87af-c120824d9336</td>\n    </tr>\n    <tr>\n      <th>18608</th>\n      <td>Jones has a history of prolific fabulism Jones...</td>\n      <td>Left</td>\n      <td>alternet</td>\n      <td>Politics</td>\n      <td>1</td>\n      <td>0</td>\n      <td>23e188e6-c2a4-4cea-907d-2e4930019450</td>\n      <td>aa072ec2-4548-403b-a5ec-ae279f086bff</td>\n    </tr>\n    <tr>\n      <th>54591</th>\n      <td>The fight over masks is heated, and Goodwin, w...</td>\n      <td>Left</td>\n      <td>alternet</td>\n      <td>Politics</td>\n      <td>1</td>\n      <td>0</td>\n      <td>9cedba74-945b-4d1a-af64-fab180fe918a</td>\n      <td>27dcd49a-c9d3-4434-96ef-483a2a46c776</td>\n    </tr>\n    <tr>\n      <th>...</th>\n      <td>...</td>\n      <td>...</td>\n      <td>...</td>\n      <td>...</td>\n      <td>...</td>\n      <td>...</td>\n      <td>...</td>\n      <td>...</td>\n    </tr>\n    <tr>\n      <th>18024</th>\n      <td>While Special Counsel Jack Smith’s team and Tr...</td>\n      <td>Lean Right</td>\n      <td>zerohedge</td>\n      <td>Politics</td>\n      <td>0</td>\n      <td>0</td>\n      <td>b8d0ad8c-9bda-4ad8-ae09-d40d0e72191e</td>\n      <td>0f434173-d921-479a-ab75-d3559a501212</td>\n    </tr>\n    <tr>\n      <th>4652</th>\n      <td>Fiscal Restraint Amid Growing Deficits Citi's ...</td>\n      <td>Lean Right</td>\n      <td>zerohedge</td>\n      <td>Politics</td>\n      <td>0</td>\n      <td>0</td>\n      <td>614f37bf-4f82-445a-99d2-f91883517e71</td>\n      <td>435e697c-7cc4-4e4c-9237-60140fbbad74</td>\n    </tr>\n    <tr>\n      <th>29992</th>\n      <td>When Mr. Durbin was asked on Dec. 5 whether he...</td>\n      <td>Lean Right</td>\n      <td>zerohedge</td>\n      <td>Conversational</td>\n      <td>0</td>\n      <td>0</td>\n      <td>df68b513-9a51-4968-8186-6318c13b16eb</td>\n      <td>ab4053d0-c6e9-4fec-a64b-a4f76e3b0bb0</td>\n    </tr>\n    <tr>\n      <th>24175</th>\n      <td>The policy she outlined included prohibitions ...</td>\n      <td>Lean Right</td>\n      <td>zerohedge</td>\n      <td>Conversational</td>\n      <td>0</td>\n      <td>0</td>\n      <td>b1bdcdf8-8dfc-4418-829c-91fc33cf0bd1</td>\n      <td>1d176beb-c060-4ba3-891d-9bef3b5b7f57</td>\n    </tr>\n    <tr>\n      <th>3805</th>\n      <td>She issued the rebuke the same day that Presid...</td>\n      <td>Lean Right</td>\n      <td>zerohedge</td>\n      <td>Politics</td>\n      <td>0</td>\n      <td>0</td>\n      <td>f5fa362a-c2ca-4329-b402-9ea7de09ad21</td>\n      <td>6d99c3c3-48e6-4205-a2ca-68fd96909e1a</td>\n    </tr>\n  </tbody>\n</table>\n<p>8743 rows × 8 columns</p>\n</div>"
     },
     "execution_count": 135,
     "metadata": {},
     "output_type": "execute_result"
    }
   ],
   "source": [
    "seed = 42\n",
    "\n",
    "\n",
    "# Calculate the target number of rows per source_name\n",
    "target_rows_per_source = 10000 // len(df['source_name'].unique())\n",
    "\n",
    "sampled_data = pd.DataFrame()\n",
    "\n",
    "for source_name, group in df.groupby('source_name'):\n",
    "    # Sample half of the rows with 'bias_estimate' equal to 1\n",
    "    bias_estimate_1 = group[group['bias_estimate'] == 1].sample(\n",
    "        n=min(target_rows_per_source // 2, len(group[group['bias_estimate'] == 1])),\n",
    "        random_state=seed\n",
    "    )\n",
    "\n",
    "    # Sample half of the rows with 'bias_estimate' equal to 0\n",
    "    bias_estimate_0 = group[group['bias_estimate'] == 0].sample(\n",
    "        n=min(target_rows_per_source // 2, len(group[group['bias_estimate'] == 0])),\n",
    "        random_state=seed\n",
    "    )\n",
    "    # Concatenate the sampled data for this source_name\n",
    "    sampled_data = pd.concat([sampled_data, bias_estimate_1, bias_estimate_0])\n",
    "\n",
    "sampled_data"
   ],
   "metadata": {
    "collapsed": false
   }
  },
  {
   "cell_type": "code",
   "execution_count": 136,
   "outputs": [
    {
     "data": {
      "text/plain": "source_party\nLean Left     2321\nLeft          2029\nLean Right    1653\nRight         1536\nCenter        1204\ndtype: int64"
     },
     "execution_count": 136,
     "metadata": {},
     "output_type": "execute_result"
    }
   ],
   "source": [
    "sampled_data.value_counts('source_party')"
   ],
   "metadata": {
    "collapsed": false
   }
  },
  {
   "cell_type": "code",
   "execution_count": 137,
   "outputs": [],
   "source": [
    "# Check if the total number of rows is less than 10,000\n",
    "if len(sampled_data) < 10000:\n",
    "    # Calculate the number of missing rows for each 'bias_estimate'\n",
    "    missing_rows_1 = 5000 - len(sampled_data[sampled_data['bias_estimate'] == 1])\n",
    "    missing_rows_0 = 5000 - len(sampled_data[sampled_data['bias_estimate'] == 0])\n",
    "\n",
    "    # Sample the missing rows from 'Lean Right' and 'Right' source_party\n",
    "    remaining_rows_1 = df[(df['source_party'].isin(['Lean Right', 'Right'])) & (df['bias_estimate'] == 1)].sample(\n",
    "        n=missing_rows_1, random_state=seed\n",
    "    )\n",
    "    remaining_rows_0 = df[(df['source_party'].isin(['Lean Right', 'Right'])) & (df['bias_estimate'] == 0)].sample(\n",
    "        n=missing_rows_0, random_state=seed\n",
    "    )\n",
    "    # Concatenate the remaining rows to the sampled_data\n",
    "    sampled_data = pd.concat([sampled_data, remaining_rows_1, remaining_rows_0])\n"
   ],
   "metadata": {
    "collapsed": false
   }
  },
  {
   "cell_type": "code",
   "execution_count": 138,
   "outputs": [
    {
     "data": {
      "text/plain": "source_party\nLean Left     2321\nRight         2250\nLean Right    2196\nLeft          2029\nCenter        1204\ndtype: int64"
     },
     "execution_count": 138,
     "metadata": {},
     "output_type": "execute_result"
    }
   ],
   "source": [
    "sampled_data.value_counts('source_party')"
   ],
   "metadata": {
    "collapsed": false
   }
  },
  {
   "cell_type": "code",
   "execution_count": 139,
   "outputs": [
    {
     "data": {
      "text/plain": "bias_estimate\n0    5000\n1    5000\ndtype: int64"
     },
     "execution_count": 139,
     "metadata": {},
     "output_type": "execute_result"
    }
   ],
   "source": [
    "sampled_data.value_counts('bias_estimate')"
   ],
   "metadata": {
    "collapsed": false
   }
  },
  {
   "cell_type": "code",
   "execution_count": 140,
   "outputs": [],
   "source": [
    "sampled_data.to_csv('data/output/ma_sampled_data.csv', index=False)"
   ],
   "metadata": {
    "collapsed": false
   }
  },
  {
   "cell_type": "code",
   "execution_count": 141,
   "outputs": [
    {
     "name": "stdout",
     "output_type": "stream",
     "text": [
      "Size of df: (76428, 8)\n",
      "Size of sampled_data: (10000, 8)\n",
      "Size of df_not_in_sampled_data: (66566, 8)\n",
      "The sizes of df and sampled_data do not sum up correctly.\n"
     ]
    }
   ],
   "source": [
    "sampled_data = sampled_data.drop_duplicates()\n",
    "\n",
    "# Assuming 'common_column' is the common column between df and sampled_data\n",
    "common_column = 'text'\n",
    "\n",
    "# Merge the dataframes using the common column\n",
    "merged_df = pd.merge(df, sampled_data,  how='outer', indicator=True)\n",
    "\n",
    "# Select rows that are in df but not in sampled_data\n",
    "df_not_in_sampled_data = merged_df[merged_df['_merge'] == 'left_only'].drop('_merge', axis=1)\n",
    "\n",
    "# Now df_not_in_sampled_data contains the rows that are in df but not in sampled_data\n",
    "# Print the size of each dataframe\n",
    "print(\"Size of df:\", df.shape)\n",
    "print(\"Size of sampled_data:\", sampled_data.shape)\n",
    "print(\"Size of df_not_in_sampled_data:\", df_not_in_sampled_data.shape)\n",
    "\n",
    "# Check if the sizes sum up\n",
    "total_rows_df_and_sampled_data = df_not_in_sampled_data.shape[0] + sampled_data.shape[0]\n",
    "\n",
    "if df.shape[0] == total_rows_df_and_sampled_data:\n",
    "    print(\"The sizes of df and sampled_data sum up correctly.\")\n",
    "else:\n",
    "    print(\"The sizes of df and sampled_data do not sum up correctly.\")\n",
    "\n",
    "df_not_in_sampled_data.to_csv('data/output/not_in_ma_sample.csv', index=False)"
   ],
   "metadata": {
    "collapsed": false
   }
  },
  {
   "cell_type": "code",
   "execution_count": 142,
   "outputs": [
    {
     "name": "stdout",
     "output_type": "stream",
     "text": [
      "Part 1 (30711, 8)\n",
      "Part 2 (30753, 8)\n",
      "61464\n"
     ]
    }
   ],
   "source": [
    "import numpy as np\n",
    "\n",
    "# Specify the number of parts you want to split the DataFrame into\n",
    "num_parts = 2\n",
    "\n",
    "# Use numpy.array_split to split the DataFrame\n",
    "split_dataframes = np.array_split(df_not_in_sampled_data, num_parts)\n",
    "\n",
    "# Now, split_dataframes is a list containing the three equal parts of the original DataFrame\n",
    "# Access each part like this:\n",
    "part1 = split_dataframes[0].drop_duplicates()\n",
    "part2 = split_dataframes[1].drop_duplicates()\n",
    "#part3 = split_dataframes[2]\n",
    "print(\"Part 1\", part1.shape)\n",
    "print(\"Part 2\", part2.shape)\n",
    "print(part1.shape[0] + part2.shape[0])\n",
    "\n",
    "part1.to_csv('data/output/not_in_ma_sample_part1.csv', index=False)\n",
    "part2.to_csv('data/output/not_in_ma_sample_part2.csv', index=False)"
   ],
   "metadata": {
    "collapsed": false
   }
  },
  {
   "cell_type": "code",
   "execution_count": 142,
   "outputs": [],
   "source": [],
   "metadata": {
    "collapsed": false
   }
  }
 ],
 "metadata": {
  "kernelspec": {
   "display_name": "Python 3",
   "language": "python",
   "name": "python3"
  },
  "language_info": {
   "codemirror_mode": {
    "name": "ipython",
    "version": 2
   },
   "file_extension": ".py",
   "mimetype": "text/x-python",
   "name": "python",
   "nbconvert_exporter": "python",
   "pygments_lexer": "ipython2",
   "version": "2.7.6"
  }
 },
 "nbformat": 4,
 "nbformat_minor": 0
}
